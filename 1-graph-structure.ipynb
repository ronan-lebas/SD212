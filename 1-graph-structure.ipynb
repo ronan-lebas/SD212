{
 "cells": [
  {
   "cell_type": "markdown",
   "metadata": {},
   "source": [
    "# SD212: Graph Learning\n",
    "## Lab 1: Graph Structure\n",
    "\n",
    "In this lab, you will check some key properties of real graphs:\n",
    "* the [friendship paradox](https://en.wikipedia.org/wiki/Friendship_paradox),\n",
    "* the [power-law](https://en.wikipedia.org/wiki/Power_law#Power-law_probability_distributions) of degrees,\n",
    "* the [small-world](https://en.wikipedia.org/wiki/Small-world_network) property,\n",
    "* the tendency to [cluster](https://en.wikipedia.org/wiki/Clustering_coefficient)."
   ]
  },
  {
   "cell_type": "markdown",
   "metadata": {},
   "source": [
    "## Import"
   ]
  },
  {
   "cell_type": "code",
   "execution_count": 1,
   "metadata": {},
   "outputs": [],
   "source": [
    "import numpy as np\n",
    "from scipy import sparse\n",
    "import matplotlib.pyplot as plt"
   ]
  },
  {
   "cell_type": "code",
   "execution_count": 9,
   "metadata": {},
   "outputs": [],
   "source": [
    "from sknetwork.data import load_netset, erdos_renyi\n",
    "from sknetwork.path import get_distances, get_shortest_path\n",
    "from sknetwork.topology import get_clustering_coefficient\n",
    "from sknetwork.utils import get_degrees, get_neighbors, directed2undirected"
   ]
  },
  {
   "cell_type": "markdown",
   "metadata": {},
   "source": [
    "## Data"
   ]
  },
  {
   "cell_type": "markdown",
   "metadata": {},
   "source": [
    "We will work on the following graphs (see the [NetSet](https://netset.telecom-paris.fr) collection for details):\n",
    "* Openflights (graph)\n",
    "* WikiVitals (directed graph)\n",
    "* Cinema (bipartite graph)"
   ]
  },
  {
   "cell_type": "code",
   "execution_count": 3,
   "metadata": {},
   "outputs": [
    {
     "name": "stdout",
     "output_type": "stream",
     "text": [
      "Parsing files...\n",
      "Done.\n"
     ]
    }
   ],
   "source": [
    "openflights = load_netset('openflights')"
   ]
  },
  {
   "cell_type": "code",
   "execution_count": 4,
   "metadata": {},
   "outputs": [
    {
     "name": "stdout",
     "output_type": "stream",
     "text": [
      "Parsing files...\n",
      "Done.\n"
     ]
    }
   ],
   "source": [
    "wikivitals = load_netset('wikivitals')"
   ]
  },
  {
   "cell_type": "code",
   "execution_count": 5,
   "metadata": {},
   "outputs": [
    {
     "name": "stdout",
     "output_type": "stream",
     "text": [
      "Parsing files...\n",
      "Done.\n"
     ]
    }
   ],
   "source": [
    "cinema = load_netset('cinema')"
   ]
  },
  {
   "cell_type": "code",
   "execution_count": 6,
   "metadata": {},
   "outputs": [],
   "source": [
    "dataset = openflights"
   ]
  },
  {
   "cell_type": "code",
   "execution_count": 7,
   "metadata": {},
   "outputs": [],
   "source": [
    "# adjacency matrix\n",
    "adjacency = dataset.adjacency"
   ]
  },
  {
   "cell_type": "code",
   "execution_count": 8,
   "metadata": {},
   "outputs": [
    {
     "data": {
      "text/plain": [
       "<3097x3097 sparse matrix of type '<class 'numpy.int64'>'\n",
       "\twith 36386 stored elements in Compressed Sparse Row format>"
      ]
     },
     "execution_count": 8,
     "metadata": {},
     "output_type": "execute_result"
    }
   ],
   "source": [
    "adjacency"
   ]
  },
  {
   "cell_type": "markdown",
   "metadata": {},
   "source": [
    "## 1. Friendship paradox"
   ]
  },
  {
   "cell_type": "markdown",
   "metadata": {},
   "source": [
    "We first focus on the friendship paradox. We consider the Openflights dataset."
   ]
  },
  {
   "cell_type": "markdown",
   "metadata": {},
   "source": [
    "## To do\n",
    "\n",
    "* Sample 100 random nodes. Compute their average degree.\n",
    "* Sample 100 random neighbors of random nodes. Compute their average degree.\n",
    "* Conclude."
   ]
  },
  {
   "cell_type": "code",
   "execution_count": 9,
   "metadata": {},
   "outputs": [],
   "source": [
    "rand_idx = np.random.randint(0, adjacency.shape[0], 100)"
   ]
  },
  {
   "cell_type": "code",
   "execution_count": 10,
   "metadata": {},
   "outputs": [
    {
     "data": {
      "text/plain": [
       "11.01"
      ]
     },
     "execution_count": 10,
     "metadata": {},
     "output_type": "execute_result"
    }
   ],
   "source": [
    "degrees = get_degrees(adjacency)\n",
    "sample = degrees[rand_idx]\n",
    "deg_avg = sample.mean()\n",
    "deg_avg"
   ]
  },
  {
   "cell_type": "code",
   "execution_count": 11,
   "metadata": {},
   "outputs": [
    {
     "data": {
      "text/plain": [
       "56.33"
      ]
     },
     "execution_count": 11,
     "metadata": {},
     "output_type": "execute_result"
    }
   ],
   "source": [
    "deg_neigh_avg = list()\n",
    "for i in rand_idx:\n",
    "    neighbors = get_neighbors(adjacency, i)\n",
    "    rand_neigh = np.random.choice(neighbors)\n",
    "    deg_neigh_avg.append(degrees[rand_neigh])\n",
    "deg_avg_2 = np.mean(deg_neigh_avg)\n",
    "deg_avg_2"
   ]
  },
  {
   "cell_type": "markdown",
   "metadata": {},
   "source": [
    "The friendship paradox is clear."
   ]
  },
  {
   "cell_type": "markdown",
   "metadata": {},
   "source": [
    "## 2. Power-law degrees"
   ]
  },
  {
   "cell_type": "markdown",
   "metadata": {},
   "source": [
    "We now focus on the degree distribution.\n",
    "\n",
    "We consider the empirical distributions of:\n",
    "* degrees in the Openflights graph,\n",
    "* in-degrees and out-degrees in the WikiVitals graph."
   ]
  },
  {
   "cell_type": "markdown",
   "metadata": {},
   "source": [
    "## To do"
   ]
  },
  {
   "cell_type": "markdown",
   "metadata": {},
   "source": [
    "For each of these distributions:\n",
    "* Plot the [tail distribution](https://en.wikipedia.org/wiki/Cumulative_distribution_function#Complementary_cumulative_distribution_function_(tail_distribution)) in log-log scale.\n",
    "* Conclude: do you consider that these are power-law graphs?"
   ]
  },
  {
   "cell_type": "code",
   "execution_count": 12,
   "metadata": {},
   "outputs": [],
   "source": [
    "def plot_loglog(degrees):\n",
    "    \"\"\"Plot the degree distribution in log-log scale and compare with that of a random graph.\n",
    "    \n",
    "    Parameters\n",
    "    ----------\n",
    "    degrees : array\n",
    "        vector of degrees of the graph.\n",
    "    \"\"\"\n",
    "    n = len(degrees)\n",
    "    # comparison with a random graph\n",
    "    p = np.sum(degrees) / n / (n-1) # link probability\n",
    "    adjacency_random = erdos_renyi(n, p)\n",
    "    degrees_random = get_degrees(adjacency_random)\n",
    "    plt.loglog(np.sort(degrees), 1 - np.arange(n) / n, lw = 3, label='Real graph')\n",
    "    plt.loglog(np.sort(degrees_random), 1 - np.arange(n) / n, lw = 3, label = 'Random graph')\n",
    "    plt.xlabel('Degree')\n",
    "    plt.ylabel('Probability')\n",
    "    plt.legend()\n",
    "    plt.show()"
   ]
  },
  {
   "cell_type": "code",
   "execution_count": 13,
   "metadata": {},
   "outputs": [
    {
     "data": {
      "image/png": "[encoded data removed]",
      "text/plain": [
       "<Figure size 640x480 with 1 Axes>"
      ]
     },
     "metadata": {},
     "output_type": "display_data"
    }
   ],
   "source": [
    "# For openflights\n",
    "plot_loglog(get_degrees(openflights.adjacency))"
   ]
  },
  {
   "cell_type": "code",
   "execution_count": 14,
   "metadata": {},
   "outputs": [
    {
     "ename": "KeyboardInterrupt",
     "evalue": "",
     "output_type": "error",
     "traceback": [
      "\u001b[1;31m---------------------------------------------------------------------------\u001b[0m",
      "\u001b[1;31mKeyboardInterrupt\u001b[0m                         Traceback (most recent call last)",
      "Cell \u001b[1;32mIn[14], line 2\u001b[0m\n\u001b[0;32m      1\u001b[0m \u001b[38;5;66;03m# Out-degrees for WikiVitals\u001b[39;00m\n\u001b[1;32m----> 2\u001b[0m \u001b[43mplot_loglog\u001b[49m\u001b[43m(\u001b[49m\u001b[43mget_degrees\u001b[49m\u001b[43m(\u001b[49m\u001b[43mwikivitals\u001b[49m\u001b[38;5;241;43m.\u001b[39;49m\u001b[43madjacency\u001b[49m\u001b[43m)\u001b[49m\u001b[43m)\u001b[49m\n",
      "Cell \u001b[1;32mIn[12], line 12\u001b[0m, in \u001b[0;36mplot_loglog\u001b[1;34m(degrees)\u001b[0m\n\u001b[0;32m     10\u001b[0m \u001b[38;5;66;03m# comparison with a random graph\u001b[39;00m\n\u001b[0;32m     11\u001b[0m p \u001b[38;5;241m=\u001b[39m np\u001b[38;5;241m.\u001b[39msum(degrees) \u001b[38;5;241m/\u001b[39m n \u001b[38;5;241m/\u001b[39m (n\u001b[38;5;241m-\u001b[39m\u001b[38;5;241m1\u001b[39m) \u001b[38;5;66;03m# link probability\u001b[39;00m\n\u001b[1;32m---> 12\u001b[0m adjacency_random \u001b[38;5;241m=\u001b[39m \u001b[43merdos_renyi\u001b[49m\u001b[43m(\u001b[49m\u001b[43mn\u001b[49m\u001b[43m,\u001b[49m\u001b[43m \u001b[49m\u001b[43mp\u001b[49m\u001b[43m)\u001b[49m\n\u001b[0;32m     13\u001b[0m degrees_random \u001b[38;5;241m=\u001b[39m get_degrees(adjacency_random)\n\u001b[0;32m     14\u001b[0m plt\u001b[38;5;241m.\u001b[39mloglog(np\u001b[38;5;241m.\u001b[39msort(degrees), \u001b[38;5;241m1\u001b[39m \u001b[38;5;241m-\u001b[39m np\u001b[38;5;241m.\u001b[39marange(n) \u001b[38;5;241m/\u001b[39m n, lw \u001b[38;5;241m=\u001b[39m \u001b[38;5;241m3\u001b[39m, label\u001b[38;5;241m=\u001b[39m\u001b[38;5;124m'\u001b[39m\u001b[38;5;124mReal graph\u001b[39m\u001b[38;5;124m'\u001b[39m)\n",
      "File \u001b[1;32mc:\\Users\\ronan\\Documents\\Telecom\\2A\\SD\\SD212\\.venv\\Lib\\site-packages\\sknetwork\\data\\models.py:129\u001b[0m, in \u001b[0;36merdos_renyi\u001b[1;34m(n, p, directed, self_loops, seed)\u001b[0m\n\u001b[0;32m     95\u001b[0m \u001b[38;5;28;01mdef\u001b[39;00m \u001b[38;5;21merdos_renyi\u001b[39m(n: \u001b[38;5;28mint\u001b[39m \u001b[38;5;241m=\u001b[39m \u001b[38;5;241m20\u001b[39m, p: \u001b[38;5;28mfloat\u001b[39m \u001b[38;5;241m=\u001b[39m \u001b[38;5;241m.3\u001b[39m, directed: \u001b[38;5;28mbool\u001b[39m \u001b[38;5;241m=\u001b[39m \u001b[38;5;28;01mFalse\u001b[39;00m, self_loops: \u001b[38;5;28mbool\u001b[39m \u001b[38;5;241m=\u001b[39m \u001b[38;5;28;01mFalse\u001b[39;00m,\n\u001b[0;32m     96\u001b[0m                 seed: Optional[\u001b[38;5;28mint\u001b[39m] \u001b[38;5;241m=\u001b[39m \u001b[38;5;28;01mNone\u001b[39;00m) \u001b[38;5;241m-\u001b[39m\u001b[38;5;241m>\u001b[39m sparse\u001b[38;5;241m.\u001b[39mcsr_matrix:\n\u001b[0;32m     97\u001b[0m \u001b[38;5;250m    \u001b[39m\u001b[38;5;124;03m\"\"\"Erdos-Renyi graph.\u001b[39;00m\n\u001b[0;32m     98\u001b[0m \n\u001b[0;32m     99\u001b[0m \u001b[38;5;124;03m    Parameters\u001b[39;00m\n\u001b[1;32m   (...)\u001b[0m\n\u001b[0;32m    127\u001b[0m \u001b[38;5;124;03m    Publicationes Mathematicae.\u001b[39;00m\n\u001b[0;32m    128\u001b[0m \u001b[38;5;124;03m    \"\"\"\u001b[39;00m\n\u001b[1;32m--> 129\u001b[0m     \u001b[38;5;28;01mreturn\u001b[39;00m \u001b[43mblock_model\u001b[49m\u001b[43m(\u001b[49m\u001b[43m[\u001b[49m\u001b[43mn\u001b[49m\u001b[43m]\u001b[49m\u001b[43m,\u001b[49m\u001b[43m \u001b[49m\u001b[43mp\u001b[49m\u001b[43m,\u001b[49m\u001b[43m \u001b[49m\u001b[38;5;241;43m0.\u001b[39;49m\u001b[43m,\u001b[49m\u001b[43m \u001b[49m\u001b[43mdirected\u001b[49m\u001b[38;5;241;43m=\u001b[39;49m\u001b[43mdirected\u001b[49m\u001b[43m,\u001b[49m\u001b[43m \u001b[49m\u001b[43mself_loops\u001b[49m\u001b[38;5;241;43m=\u001b[39;49m\u001b[43mself_loops\u001b[49m\u001b[43m,\u001b[49m\u001b[43m \u001b[49m\u001b[43mmetadata\u001b[49m\u001b[38;5;241;43m=\u001b[39;49m\u001b[38;5;28;43;01mFalse\u001b[39;49;00m\u001b[43m,\u001b[49m\u001b[43m \u001b[49m\u001b[43mseed\u001b[49m\u001b[38;5;241;43m=\u001b[39;49m\u001b[43mseed\u001b[49m\u001b[43m)\u001b[49m\n",
      "File \u001b[1;32mc:\\Users\\ronan\\Documents\\Telecom\\2A\\SD\\SD212\\.venv\\Lib\\site-packages\\sknetwork\\data\\models.py:73\u001b[0m, in \u001b[0;36mblock_model\u001b[1;34m(sizes, p_in, p_out, directed, self_loops, metadata, seed)\u001b[0m\n\u001b[0;32m     71\u001b[0m \u001b[38;5;28;01mfor\u001b[39;00m j, b \u001b[38;5;129;01min\u001b[39;00m \u001b[38;5;28menumerate\u001b[39m(sizes):\n\u001b[0;32m     72\u001b[0m     \u001b[38;5;28;01mif\u001b[39;00m j \u001b[38;5;241m==\u001b[39m i:\n\u001b[1;32m---> 73\u001b[0m         row\u001b[38;5;241m.\u001b[39mappend(\u001b[43msparse\u001b[49m\u001b[38;5;241;43m.\u001b[39;49m\u001b[43mrandom\u001b[49m\u001b[43m(\u001b[49m\u001b[43ma\u001b[49m\u001b[43m,\u001b[49m\u001b[43m \u001b[49m\u001b[43ma\u001b[49m\u001b[43m,\u001b[49m\u001b[43m \u001b[49m\u001b[43mp_in\u001b[49m\u001b[43m[\u001b[49m\u001b[43mi\u001b[49m\u001b[43m]\u001b[49m\u001b[43m,\u001b[49m\u001b[43m \u001b[49m\u001b[43mdtype\u001b[49m\u001b[38;5;241;43m=\u001b[39;49m\u001b[38;5;28;43mbool\u001b[39;49m\u001b[43m,\u001b[49m\u001b[43m \u001b[49m\u001b[43mrandom_state\u001b[49m\u001b[38;5;241;43m=\u001b[39;49m\u001b[43mrandom_state\u001b[49m\u001b[43m)\u001b[49m)\n\u001b[0;32m     74\u001b[0m     \u001b[38;5;28;01melse\u001b[39;00m:\n\u001b[0;32m     75\u001b[0m         row\u001b[38;5;241m.\u001b[39mappend(sparse\u001b[38;5;241m.\u001b[39mrandom(a, b, p_out, dtype\u001b[38;5;241m=\u001b[39m\u001b[38;5;28mbool\u001b[39m, random_state\u001b[38;5;241m=\u001b[39mrandom_state))\n",
      "File \u001b[1;32mc:\\Users\\ronan\\Documents\\Telecom\\2A\\SD\\SD212\\.venv\\Lib\\site-packages\\scipy\\sparse\\_construct.py:1340\u001b[0m, in \u001b[0;36mrandom\u001b[1;34m(m, n, density, format, dtype, random_state, data_rvs)\u001b[0m\n\u001b[0;32m   1338\u001b[0m \u001b[38;5;28;01melse\u001b[39;00m:\n\u001b[0;32m   1339\u001b[0m     data_rvs_kw \u001b[38;5;241m=\u001b[39m \u001b[38;5;28;01mNone\u001b[39;00m\n\u001b[1;32m-> 1340\u001b[0m vals, ind \u001b[38;5;241m=\u001b[39m \u001b[43m_random\u001b[49m\u001b[43m(\u001b[49m\u001b[43m(\u001b[49m\u001b[43mm\u001b[49m\u001b[43m,\u001b[49m\u001b[43m \u001b[49m\u001b[43mn\u001b[49m\u001b[43m)\u001b[49m\u001b[43m,\u001b[49m\u001b[43m \u001b[49m\u001b[43mdensity\u001b[49m\u001b[43m,\u001b[49m\u001b[43m \u001b[49m\u001b[38;5;28;43mformat\u001b[39;49m\u001b[43m,\u001b[49m\u001b[43m \u001b[49m\u001b[43mdtype\u001b[49m\u001b[43m,\u001b[49m\u001b[43m \u001b[49m\u001b[43mrandom_state\u001b[49m\u001b[43m,\u001b[49m\u001b[43m \u001b[49m\u001b[43mdata_rvs_kw\u001b[49m\u001b[43m)\u001b[49m\n\u001b[0;32m   1341\u001b[0m \u001b[38;5;28;01mreturn\u001b[39;00m coo_matrix((vals, ind), shape\u001b[38;5;241m=\u001b[39m(m, n))\u001b[38;5;241m.\u001b[39masformat(\u001b[38;5;28mformat\u001b[39m)\n",
      "File \u001b[1;32mc:\\Users\\ronan\\Documents\\Telecom\\2A\\SD\\SD212\\.venv\\Lib\\site-packages\\scipy\\sparse\\_construct.py:1211\u001b[0m, in \u001b[0;36m_random\u001b[1;34m(shape, density, format, dtype, random_state, data_sampler)\u001b[0m\n\u001b[0;32m   1209\u001b[0m \u001b[38;5;28;01mif\u001b[39;00m tot_prod \u001b[38;5;241m<\u001b[39m np\u001b[38;5;241m.\u001b[39miinfo(np\u001b[38;5;241m.\u001b[39mint64)\u001b[38;5;241m.\u001b[39mmax:\n\u001b[0;32m   1210\u001b[0m     raveled_ind \u001b[38;5;241m=\u001b[39m rng\u001b[38;5;241m.\u001b[39mchoice(tot_prod, size\u001b[38;5;241m=\u001b[39msize, replace\u001b[38;5;241m=\u001b[39m\u001b[38;5;28;01mFalse\u001b[39;00m)\n\u001b[1;32m-> 1211\u001b[0m     ind \u001b[38;5;241m=\u001b[39m \u001b[43mnp\u001b[49m\u001b[38;5;241;43m.\u001b[39;49m\u001b[43munravel_index\u001b[49m\u001b[43m(\u001b[49m\u001b[43mraveled_ind\u001b[49m\u001b[43m,\u001b[49m\u001b[43m \u001b[49m\u001b[43mshape\u001b[49m\u001b[38;5;241;43m=\u001b[39;49m\u001b[43mshape\u001b[49m\u001b[43m,\u001b[49m\u001b[43m \u001b[49m\u001b[43morder\u001b[49m\u001b[38;5;241;43m=\u001b[39;49m\u001b[38;5;124;43m'\u001b[39;49m\u001b[38;5;124;43mF\u001b[39;49m\u001b[38;5;124;43m'\u001b[39;49m\u001b[43m)\u001b[49m\n\u001b[0;32m   1212\u001b[0m \u001b[38;5;28;01melse\u001b[39;00m:\n\u001b[0;32m   1213\u001b[0m     \u001b[38;5;66;03m# for ravel indices bigger than dtype max, use sets to remove duplicates\u001b[39;00m\n\u001b[0;32m   1214\u001b[0m     ndim \u001b[38;5;241m=\u001b[39m \u001b[38;5;28mlen\u001b[39m(shape)\n",
      "File \u001b[1;32mc:\\Users\\ronan\\Documents\\Telecom\\2A\\SD\\SD212\\.venv\\Lib\\site-packages\\numpy\\core\\multiarray.py:1030\u001b[0m, in \u001b[0;36munravel_index\u001b[1;34m(indices, shape, order)\u001b[0m\n\u001b[0;32m    971\u001b[0m \u001b[38;5;250m    \u001b[39m\u001b[38;5;124;03m\"\"\"\u001b[39;00m\n\u001b[0;32m    972\u001b[0m \u001b[38;5;124;03m    ravel_multi_index(multi_index, dims, mode='raise', order='C')\u001b[39;00m\n\u001b[0;32m    973\u001b[0m \n\u001b[1;32m   (...)\u001b[0m\n\u001b[0;32m   1025\u001b[0m \u001b[38;5;124;03m    1621\u001b[39;00m\n\u001b[0;32m   1026\u001b[0m \u001b[38;5;124;03m    \"\"\"\u001b[39;00m\n\u001b[0;32m   1027\u001b[0m     \u001b[38;5;28;01mreturn\u001b[39;00m multi_index\n\u001b[1;32m-> 1030\u001b[0m \u001b[38;5;129m@array_function_from_c_func_and_dispatcher\u001b[39m(_multiarray_umath\u001b[38;5;241m.\u001b[39munravel_index)\n\u001b[0;32m   1031\u001b[0m \u001b[38;5;28;01mdef\u001b[39;00m \u001b[38;5;21munravel_index\u001b[39m(indices, shape\u001b[38;5;241m=\u001b[39m\u001b[38;5;28;01mNone\u001b[39;00m, order\u001b[38;5;241m=\u001b[39m\u001b[38;5;28;01mNone\u001b[39;00m):\n\u001b[0;32m   1032\u001b[0m \u001b[38;5;250m    \u001b[39m\u001b[38;5;124;03m\"\"\"\u001b[39;00m\n\u001b[0;32m   1033\u001b[0m \u001b[38;5;124;03m    unravel_index(indices, shape, order='C')\u001b[39;00m\n\u001b[0;32m   1034\u001b[0m \n\u001b[1;32m   (...)\u001b[0m\n\u001b[0;32m   1075\u001b[0m \n\u001b[0;32m   1076\u001b[0m \u001b[38;5;124;03m    \"\"\"\u001b[39;00m\n\u001b[0;32m   1077\u001b[0m     \u001b[38;5;28;01mreturn\u001b[39;00m (indices,)\n",
      "\u001b[1;31mKeyboardInterrupt\u001b[0m: "
     ]
    }
   ],
   "source": [
    "# Out-degrees for WikiVitals\n",
    "plot_loglog(get_degrees(wikivitals.adjacency))"
   ]
  },
  {
   "cell_type": "code",
   "execution_count": null,
   "metadata": {},
   "outputs": [
    {
     "data": {
      "image/png": "[encoded data removed]",
      "text/plain": [
       "<Figure size 640x480 with 1 Axes>"
      ]
     },
     "metadata": {},
     "output_type": "display_data"
    }
   ],
   "source": [
    "# In-degrees for WikiVitals\n",
    "plot_loglog(get_degrees(wikivitals.adjacency, transpose=True))"
   ]
  },
  {
   "cell_type": "markdown",
   "metadata": {},
   "source": [
    "Both can be considered as power-law graphs, especially WikiVitals."
   ]
  },
  {
   "cell_type": "markdown",
   "metadata": {},
   "source": [
    "## 3. Small-world property"
   ]
  },
  {
   "cell_type": "markdown",
   "metadata": {},
   "source": [
    "You will now make a few experiments highlighting the small-world property."
   ]
  },
  {
   "cell_type": "markdown",
   "metadata": {},
   "source": [
    "## To do\n",
    "\n",
    "* Give a shortest path from [Plato](https://en.wikipedia.org/wiki/Plato) to [Platini](https://en.wikipedia.org/wiki/Michel_Platini) in WikiVitals.<br>\n",
    "List the corresponding articles."
   ]
  },
  {
   "cell_type": "code",
   "execution_count": 6,
   "metadata": {},
   "outputs": [],
   "source": [
    "dataset = wikivitals\n",
    "adjacency = dataset.adjacency\n",
    "adjacency = \n",
    "names = wikivitals.names"
   ]
  },
  {
   "cell_type": "code",
   "execution_count": 7,
   "metadata": {},
   "outputs": [
    {
     "data": {
      "text/plain": [
       "3233"
      ]
     },
     "execution_count": 7,
     "metadata": {},
     "output_type": "execute_result"
    }
   ],
   "source": [
    "france = (names == 'France').nonzero()[0][0]\n",
    "france"
   ]
  },
  {
   "cell_type": "code",
   "execution_count": 8,
   "metadata": {},
   "outputs": [
    {
     "data": {
      "text/plain": [
       "624"
      ]
     },
     "execution_count": 8,
     "metadata": {},
     "output_type": "execute_result"
    }
   ],
   "source": [
    "argentina = (names == 'Argentina').nonzero()[0][0]\n",
    "argentina"
   ]
  },
  {
   "cell_type": "code",
   "execution_count": 10,
   "metadata": {},
   "outputs": [
    {
     "name": "stdout",
     "output_type": "stream",
     "text": [
      "312\n"
     ]
    }
   ],
   "source": [
    "n1 = get_neighbors(adjacency, france, transpose=True)\n",
    "n2 = get_neighbors(adjacency, argentina, transpose=True)\n",
    "c = 0\n",
    "for i in range(len(n1)):\n",
    "    if n1[i] in n2:\n",
    "        c+=1\n",
    "print(c)"
   ]
  },
  {
   "cell_type": "code",
   "execution_count": null,
   "metadata": {},
   "outputs": [
    {
     "data": {
      "text/plain": [
       "array([7108], dtype=int64)"
      ]
     },
     "execution_count": 79,
     "metadata": {},
     "output_type": "execute_result"
    }
   ],
   "source": [
    "np.argwhere(names == 'Plato').ravel()"
   ]
  },
  {
   "cell_type": "code",
   "execution_count": null,
   "metadata": {},
   "outputs": [
    {
     "data": {
      "text/plain": [
       "{564: 'Apology (Plato)',\n",
       " 5893: 'Michel Platini',\n",
       " 7108: 'Plato',\n",
       " 7109: 'Platonic realism',\n",
       " 7625: 'Republic (Plato)'}"
      ]
     },
     "execution_count": 80,
     "metadata": {},
     "output_type": "execute_result"
    }
   ],
   "source": [
    "{i: name for i, name in enumerate(names) if 'Plato' in names[i] or 'Platini' in names[i]}"
   ]
  },
  {
   "cell_type": "code",
   "execution_count": null,
   "metadata": {},
   "outputs": [],
   "source": [
    "adjacency_shortest_path = get_shortest_path(adjacency, 7108)\n"
   ]
  },
  {
   "cell_type": "code",
   "execution_count": null,
   "metadata": {},
   "outputs": [],
   "source": [
    "neighbors = get_neighbors(adjacency_shortest_path, 5893, transpose=True)\n",
    "path = []\n",
    "while 7108 not in neighbors:\n",
    "    new_neighbor = np.random.choice(neighbors)\n",
    "    neighbors = get_neighbors(adjacency_shortest_path, new_neighbor, transpose=True)\n",
    "    path.append(new_neighbor)"
   ]
  },
  {
   "cell_type": "code",
   "execution_count": null,
   "metadata": {},
   "outputs": [
    {
     "data": {
      "text/plain": [
       "[2390, 6247]"
      ]
     },
     "execution_count": 84,
     "metadata": {},
     "output_type": "execute_result"
    }
   ],
   "source": [
    "path"
   ]
  },
  {
   "cell_type": "code",
   "execution_count": 7,
   "metadata": {},
   "outputs": [],
   "source": [
    "from IPython.display import SVG\n",
    "from sknetwork.visualization import visualize_graph"
   ]
  },
  {
   "cell_type": "code",
   "execution_count": null,
   "metadata": {},
   "outputs": [
    {
     "data": {
      "image/svg+xml": [
       "<svg xmlns=\"http://www.w3.org/2000/svg\" width=\"500.0\" height=\"340\">\n",
       "<defs><marker id=\"arrow-gray\" markerWidth=\"10\" markerHeight=\"10\" refX=\"9\" refY=\"3\" orient=\"auto\">\n",
       "<path d=\"M0,0 L0,6 L9,3 z\" fill=\"gray\"/></marker></defs>\n",
       "<path stroke-width=\"1\" stroke=\"gray\" d=\"M 148 118 25 24\" marker-end=\"url(#arrow-gray)\"/>\n",
       "<path stroke-width=\"1\" stroke=\"gray\" d=\"M 291 221 153 122\" marker-end=\"url(#arrow-gray)\"/>\n",
       "<path stroke-width=\"1\" stroke=\"gray\" d=\"M 420 320 296 225\" marker-end=\"url(#arrow-gray)\"/>\n",
       "<circle cx=\"148\" cy=\"118\" r=\"7.0\" style=\"fill:gray;stroke:black;stroke-width:1.0\"/>\n",
       "<circle cx=\"291\" cy=\"221\" r=\"7.0\" style=\"fill:gray;stroke:black;stroke-width:1.0\"/>\n",
       "<circle cx=\"20\" cy=\"20\" r=\"7.0\" style=\"fill:gray;stroke:black;stroke-width:1.0\"/>\n",
       "<circle cx=\"420\" cy=\"320\" r=\"7.0\" style=\"fill:gray;stroke:black;stroke-width:1.0\"/>\n",
       "<text text-anchor=\"start\" x=\"158\" y=\"118\" font-size=\"12\">Diego Maradona</text><text text-anchor=\"start\" x=\"301\" y=\"221\" font-size=\"12\">Naples</text><text text-anchor=\"start\" x=\"30\" y=\"20\" font-size=\"12\">Michel Platini</text><text text-anchor=\"start\" x=\"430\" y=\"320\" font-size=\"12\">Plato</text></svg>"
      ],
      "text/plain": [
       "<IPython.core.display.SVG object>"
      ]
     },
     "execution_count": 87,
     "metadata": {},
     "output_type": "execute_result"
    }
   ],
   "source": [
    "indexes = path + [5893, 7108]\n",
    "filtered_adj = adjacency_shortest_path[indexes, :][:, indexes]\n",
    "image = visualize_graph(filtered_adj, names=names[indexes])\n",
    "SVG(image)"
   ]
  },
  {
   "cell_type": "markdown",
   "metadata": {},
   "source": [
    "## To do\n",
    "\n",
    "* Which fraction of the airports can be reached from **Paris Charles de Gaulle** in 1, 2, 3 flights?\n",
    "* Which fraction of the articles can be reached from **Paris** in 1, 2, 3 clicks on Wikipedia Vitals?"
   ]
  },
  {
   "cell_type": "code",
   "execution_count": 30,
   "metadata": {},
   "outputs": [
    {
     "name": "stdout",
     "output_type": "stream",
     "text": [
      "Fraction of airports at distance 1 from CDG: 0.00\n",
      "Fraction of airports at distance 2 from CDG: 0.08\n",
      "Fraction of airports at distance 3 from CDG: 0.62\n",
      "Fraction of airports at distance 4 from CDG: 0.91\n",
      "Fraction of airports at distance 5 from CDG: 0.98\n",
      "Fraction of airports at distance 6 from CDG: 1.00\n"
     ]
    }
   ],
   "source": [
    "dataset = openflights\n",
    "adjacency = dataset.adjacency\n",
    "names = dataset.names\n",
    "\n",
    "cdg = (names == 'Charles de Gaulle International Airport').nonzero()[0][0]\n",
    "for i in range(6):\n",
    "    print(f\"Fraction of airports at distance {i+1} from CDG: {np.mean(get_distances(adjacency, cdg) <= i):.2f}\")"
   ]
  },
  {
   "cell_type": "code",
   "execution_count": 32,
   "metadata": {},
   "outputs": [
    {
     "name": "stdout",
     "output_type": "stream",
     "text": [
      "Fraction of pages at distance 1 from Paris: 0.00\n",
      "Fraction of pages at distance 2 from Paris: 0.04\n",
      "Fraction of pages at distance 3 from Paris: 0.68\n",
      "Fraction of pages at distance 4 from Paris: 1.00\n"
     ]
    }
   ],
   "source": [
    "dataset = wikivitals\n",
    "adjacency = dataset.adjacency\n",
    "names = dataset.names\n",
    "\n",
    "paris = (names == 'Paris').nonzero()[0][0]\n",
    "for i in range(4):\n",
    "    print(f\"Fraction of pages at distance {i+1} from Paris: {np.mean(get_distances(adjacency, paris) <= i):.2f}\")"
   ]
  },
  {
   "cell_type": "markdown",
   "metadata": {},
   "source": [
    "## To do\n",
    "\n",
    "* Compute the [Bacon number](https://fr.wikipedia.org/wiki/Six_Degrees_of_Kevin_Bacon) of all actors (**without** building the co-starring actor graph).\n",
    "* Plot the corresponding histogram."
   ]
  },
  {
   "cell_type": "code",
   "execution_count": 19,
   "metadata": {},
   "outputs": [
    {
     "name": "stdout",
     "output_type": "stream",
     "text": [
      "Frank Bacon\n",
      "Kevin Bacon\n",
      "Lloyd Bacon\n",
      "Irving Bacon\n",
      "Max Bacon\n",
      "David Bacon\n",
      "[11 11  9 ... 11 13 19]\n",
      "13\n"
     ]
    }
   ],
   "source": [
    "dataset = cinema\n",
    "# biadjacency matrix\n",
    "biadjacency = dataset.biadjacency\n",
    "movies = dataset.names_row\n",
    "actors = dataset.names_col\n",
    "\n",
    "for actor in actors:\n",
    "    if 'Bacon' in actor:\n",
    "        print(actor)\n",
    "bacon = (actors == 'Kevin Bacon').nonzero()[0][0]\n",
    "irina = (actors == 'Irina Petrescu').nonzero()[0][0]\n",
    "d = get_distances(biadjacency, bacon)[1]\n",
    "print(d)\n",
    "print(d[irina])"
   ]
  },
  {
   "cell_type": "markdown",
   "metadata": {},
   "source": [
    "## 4. Clustering coefficient"
   ]
  },
  {
   "cell_type": "markdown",
   "metadata": {},
   "source": [
    "Finally, we check the clustering property of real graphs (my friends tend to be friends)."
   ]
  },
  {
   "cell_type": "markdown",
   "metadata": {},
   "source": [
    "## To do\n",
    "\n",
    "\n",
    "* Compute the clustering coefficient of Openflights.\n",
    "* Compare with that of a random graph of same size and same average degree."
   ]
  },
  {
   "cell_type": "code",
   "execution_count": null,
   "metadata": {},
   "outputs": [],
   "source": [
    "dataset = openflights\n",
    "adjacency = dataset.adjacency"
   ]
  },
  {
   "cell_type": "code",
   "execution_count": null,
   "metadata": {},
   "outputs": [],
   "source": [
    "get_clustering_coefficient(adjacency)"
   ]
  }
 ],
 "metadata": {
  "anaconda-cloud": {},
  "hide_input": false,
  "kernelspec": {
   "display_name": "Python 3 (ipykernel)",
   "language": "python",
   "name": "python3"
  },
  "language_info": {
   "codemirror_mode": {
    "name": "ipython",
    "version": 3
   },
   "file_extension": ".py",
   "mimetype": "text/x-python",
   "name": "python",
   "nbconvert_exporter": "python",
   "pygments_lexer": "ipython3",
   "version": "3.11.1"
  }
 },
 "nbformat": 4,
 "nbformat_minor": 1
}
