{
 "cells": [
  {
   "cell_type": "code",
   "execution_count": 1,
   "metadata": {},
   "outputs": [],
   "source": [
    "import sympy as sp\n",
    "from sknetwork.embedding import *\n",
    "from sknetwork.hierarchy import *\n",
    "from sknetwork.visualization import *\n",
    "from sknetwork.utils import *\n",
    "from sknetwork.data import *\n",
    "from sknetwork.path import *\n",
    "from IPython.display import SVG"
   ]
  },
  {
   "cell_type": "code",
   "execution_count": 2,
   "metadata": {},
   "outputs": [
    {
     "data": {
      "text/latex": [
       "$\\displaystyle \\left[\\begin{matrix}0 & 1 & 0 & 0 & 0\\\\\\frac{1}{4} & 0 & \\frac{1}{4} & \\frac{1}{4} & \\frac{1}{4}\\\\0 & \\frac{1}{4} & 0 & 0 & 0\\\\0 & \\frac{1}{2} & 0 & 0 & \\frac{1}{2}\\\\0 & \\frac{1}{2} & 0 & \\frac{1}{2} & 0\\end{matrix}\\right]$"
      ],
      "text/plain": [
       "Matrix([\n",
       "[  0,   1,   0,   0,   0],\n",
       "[1/4,   0, 1/4, 1/4, 1/4],\n",
       "[  0, 1/4,   0,   0,   0],\n",
       "[  0, 1/2,   0,   0, 1/2],\n",
       "[  0, 1/2,   0, 1/2,   0]])"
      ]
     },
     "execution_count": 2,
     "metadata": {},
     "output_type": "execute_result"
    }
   ],
   "source": [
    "P = sp.Matrix([[0, 4, 0, 0, 0], [1, 0, 1, 1, 1], [0, 1, 0, 0, 0],[0, 2, 0, 0, 2], [0, 2, 0, 2, 0]])\n",
    "P*sp.Rational(1, 4)"
   ]
  },
  {
   "cell_type": "code",
   "execution_count": 3,
   "metadata": {},
   "outputs": [],
   "source": [
    "eigenvalues = P.eigenvals()"
   ]
  },
  {
   "cell_type": "code",
   "execution_count": 4,
   "metadata": {},
   "outputs": [
    {
     "data": {
      "image/svg+xml": [
       "<svg xmlns=\"http://www.w3.org/2000/svg\" width=\"440\" height=\"340\">\n",
       "<path stroke-width=\"1\" stroke=\"black\" d=\"M 20 320 20 170\"/>\n",
       "<path stroke-width=\"1\" stroke=\"black\" d=\"M 420 170 420 20\"/>\n",
       "<path stroke-width=\"1\" stroke=\"black\" d=\"M 420 170 420 320\"/>\n",
       "<path stroke-width=\"1\" stroke=\"black\" d=\"M 420 170 220 170\"/>\n",
       "<path stroke-width=\"1\" stroke=\"black\" d=\"M 420 320 420 170\"/>\n",
       "<path stroke-width=\"1\" stroke=\"black\" d=\"M 420 320 220 320\"/>\n",
       "<path stroke-width=\"1\" stroke=\"black\" d=\"M 220 20 420 20\"/>\n",
       "<path stroke-width=\"1\" stroke=\"black\" d=\"M 220 20 220 170\"/>\n",
       "<path stroke-width=\"1\" stroke=\"black\" d=\"M 220 20 20 20\"/>\n",
       "<path stroke-width=\"1\" stroke=\"black\" d=\"M 220 170 420 170\"/>\n",
       "<path stroke-width=\"1\" stroke=\"black\" d=\"M 220 170 220 20\"/>\n",
       "<path stroke-width=\"1\" stroke=\"black\" d=\"M 220 170 220 320\"/>\n",
       "<path stroke-width=\"1\" stroke=\"black\" d=\"M 220 170 20 170\"/>\n",
       "<path stroke-width=\"1\" stroke=\"black\" d=\"M 220 320 420 320\"/>\n",
       "<path stroke-width=\"1\" stroke=\"black\" d=\"M 220 320 220 170\"/>\n",
       "<path stroke-width=\"1\" stroke=\"black\" d=\"M 220 320 20 320\"/>\n",
       "<path stroke-width=\"1\" stroke=\"black\" d=\"M 20 20 220 20\"/>\n",
       "<path stroke-width=\"1\" stroke=\"black\" d=\"M 20 20 20 170\"/>\n",
       "<path stroke-width=\"1\" stroke=\"black\" d=\"M 20 170 220 170\"/>\n",
       "<path stroke-width=\"1\" stroke=\"black\" d=\"M 20 170 20 20\"/>\n",
       "<path stroke-width=\"1\" stroke=\"black\" d=\"M 20 170 20 320\"/>\n",
       "<path stroke-width=\"1\" stroke=\"black\" d=\"M 20 320 220 320\"/>\n",
       "<path stroke-width=\"1\" stroke=\"black\" d=\"M 420 20 220 20\"/>\n",
       "<path stroke-width=\"1\" stroke=\"black\" d=\"M 420 20 420 170\"/>\n",
       "<circle cx=\"20\" cy=\"320\" r=\"7.0\" style=\"fill:gray;stroke:black;stroke-width:1.0\"/>\n",
       "<circle cx=\"20\" cy=\"170\" r=\"7.0\" style=\"fill:gray;stroke:black;stroke-width:1.0\"/>\n",
       "<circle cx=\"20\" cy=\"20\" r=\"7.0\" style=\"fill:gray;stroke:black;stroke-width:1.0\"/>\n",
       "<circle cx=\"220\" cy=\"320\" r=\"7.0\" style=\"fill:gray;stroke:black;stroke-width:1.0\"/>\n",
       "<circle cx=\"220\" cy=\"170\" r=\"7.0\" style=\"fill:gray;stroke:black;stroke-width:1.0\"/>\n",
       "<circle cx=\"220\" cy=\"20\" r=\"7.0\" style=\"fill:gray;stroke:black;stroke-width:1.0\"/>\n",
       "<circle cx=\"420\" cy=\"320\" r=\"7.0\" style=\"fill:gray;stroke:black;stroke-width:1.0\"/>\n",
       "<circle cx=\"420\" cy=\"170\" r=\"7.0\" style=\"fill:gray;stroke:black;stroke-width:1.0\"/>\n",
       "<circle cx=\"420\" cy=\"20\" r=\"7.0\" style=\"fill:gray;stroke:black;stroke-width:1.0\"/>\n",
       "</svg>"
      ],
      "text/plain": [
       "<IPython.core.display.SVG object>"
      ]
     },
     "execution_count": 4,
     "metadata": {},
     "output_type": "execute_result"
    }
   ],
   "source": [
    "dataset = grid(3, 3, metadata=True)\n",
    "adjacency = dataset.adjacency\n",
    "position = dataset.position\n",
    "SVG(visualize_graph(adjacency, position))"
   ]
  },
  {
   "cell_type": "code",
   "execution_count": 5,
   "metadata": {},
   "outputs": [],
   "source": [
    "spectral = Spectral()\n",
    "embedding = spectral.fit_transform(adjacency)\n"
   ]
  },
  {
   "cell_type": "code",
   "execution_count": 6,
   "metadata": {},
   "outputs": [
    {
     "data": {
      "image/svg+xml": [
       "<svg xmlns=\"http://www.w3.org/2000/svg\" width=\"464.0\" height=\"340\">\n",
       "<path stroke-width=\"1\" stroke=\"gray\" d=\"M 264 200 353 168\"/>\n",
       "<path stroke-width=\"1\" stroke=\"gray\" d=\"M 20 116 153 125\"/>\n",
       "<path stroke-width=\"1\" stroke=\"gray\" d=\"M 28 91 131 68\"/>\n",
       "<path stroke-width=\"1\" stroke=\"gray\" d=\"M 28 91 20 116\"/>\n",
       "<path stroke-width=\"1\" stroke=\"gray\" d=\"M 28 91 153 125\"/>\n",
       "<path stroke-width=\"1\" stroke=\"gray\" d=\"M 162 20 171 45\"/>\n",
       "<path stroke-width=\"1\" stroke=\"gray\" d=\"M 162 20 246 82\"/>\n",
       "<path stroke-width=\"1\" stroke=\"gray\" d=\"M 122 103 251 143\"/>\n",
       "<path stroke-width=\"1\" stroke=\"gray\" d=\"M 122 103 131 68\"/>\n",
       "<path stroke-width=\"1\" stroke=\"gray\" d=\"M 122 103 20 116\"/>\n",
       "<path stroke-width=\"1\" stroke=\"gray\" d=\"M 122 103 246 82\"/>\n",
       "<path stroke-width=\"1\" stroke=\"gray\" d=\"M 197 120 251 143\"/>\n",
       "<path stroke-width=\"1\" stroke=\"gray\" d=\"M 197 120 153 125\"/>\n",
       "<path stroke-width=\"1\" stroke=\"gray\" d=\"M 197 120 246 82\"/>\n",
       "<path stroke-width=\"1\" stroke=\"gray\" d=\"M 171 45 131 68\"/>\n",
       "<path stroke-width=\"1\" stroke=\"gray\" d=\"M 171 45 162 20\"/>\n",
       "<path stroke-width=\"1\" stroke=\"gray\" d=\"M 20 116 122 103\"/>\n",
       "<path stroke-width=\"1\" stroke=\"gray\" d=\"M 20 116 28 91\"/>\n",
       "<path stroke-width=\"1\" stroke=\"gray\" d=\"M 131 68 246 82\"/>\n",
       "<path stroke-width=\"1\" stroke=\"gray\" d=\"M 131 68 260 73\"/>\n",
       "<path stroke-width=\"1\" stroke=\"gray\" d=\"M 388 216 264 200\"/>\n",
       "<path stroke-width=\"1\" stroke=\"gray\" d=\"M 388 216 353 168\"/>\n",
       "<path stroke-width=\"1\" stroke=\"gray\" d=\"M 313 34 260 73\"/>\n",
       "<path stroke-width=\"1\" stroke=\"gray\" d=\"M 313 34 246 82\"/>\n",
       "<path stroke-width=\"1\" stroke=\"gray\" d=\"M 331 143 264 200\"/>\n",
       "<path stroke-width=\"1\" stroke=\"gray\" d=\"M 331 143 353 168\"/>\n",
       "<path stroke-width=\"1\" stroke=\"gray\" d=\"M 331 143 246 82\"/>\n",
       "<path stroke-width=\"1\" stroke=\"gray\" d=\"M 171 45 260 73\"/>\n",
       "<path stroke-width=\"1\" stroke=\"gray\" d=\"M 366 61 260 73\"/>\n",
       "<path stroke-width=\"1\" stroke=\"gray\" d=\"M 420 202 264 200\"/>\n",
       "<path stroke-width=\"1\" stroke=\"gray\" d=\"M 420 202 353 168\"/>\n",
       "<path stroke-width=\"1\" stroke=\"gray\" d=\"M 228 32 260 73\"/>\n",
       "<path stroke-width=\"1\" stroke=\"gray\" d=\"M 228 32 246 82\"/>\n",
       "<path stroke-width=\"1\" stroke=\"gray\" d=\"M 131 68 28 91\"/>\n",
       "<path stroke-width=\"1\" stroke=\"gray\" d=\"M 131 68 122 103\"/>\n",
       "<path stroke-width=\"1\" stroke=\"gray\" d=\"M 131 68 171 45\"/>\n",
       "<path stroke-width=\"1\" stroke=\"gray\" d=\"M 366 61 246 82\"/>\n",
       "<path stroke-width=\"1\" stroke=\"gray\" d=\"M 220 320 264 277\"/>\n",
       "<path stroke-width=\"1\" stroke=\"gray\" d=\"M 171 45 246 82\"/>\n",
       "<path stroke-width=\"1\" stroke=\"gray\" d=\"M 344 107 282 125\"/>\n",
       "<path stroke-width=\"1\" stroke=\"gray\" d=\"M 246 82 282 125\"/>\n",
       "<path stroke-width=\"1\" stroke=\"gray\" d=\"M 246 82 197 100\"/>\n",
       "<path stroke-width=\"1\" stroke=\"gray\" d=\"M 246 82 282 153\"/>\n",
       "<path stroke-width=\"1\" stroke=\"gray\" d=\"M 246 82 348 43\"/>\n",
       "<path stroke-width=\"1\" stroke=\"gray\" d=\"M 246 82 273 27\"/>\n",
       "<path stroke-width=\"1\" stroke=\"gray\" d=\"M 246 82 313 34\"/>\n",
       "<path stroke-width=\"1\" stroke=\"gray\" d=\"M 246 82 331 143\"/>\n",
       "<path stroke-width=\"1\" stroke=\"gray\" d=\"M 246 82 366 61\"/>\n",
       "<path stroke-width=\"1\" stroke=\"gray\" d=\"M 246 82 228 32\"/>\n",
       "<path stroke-width=\"1\" stroke=\"gray\" d=\"M 246 82 131 68\"/>\n",
       "<path stroke-width=\"1\" stroke=\"gray\" d=\"M 246 82 162 20\"/>\n",
       "<path stroke-width=\"1\" stroke=\"gray\" d=\"M 246 82 122 103\"/>\n",
       "<path stroke-width=\"1\" stroke=\"gray\" d=\"M 246 82 197 120\"/>\n",
       "<path stroke-width=\"1\" stroke=\"gray\" d=\"M 246 82 171 45\"/>\n",
       "<path stroke-width=\"1\" stroke=\"gray\" d=\"M 246 82 344 107\"/>\n",
       "<path stroke-width=\"1\" stroke=\"gray\" d=\"M 260 73 246 82\"/>\n",
       "<path stroke-width=\"1\" stroke=\"gray\" d=\"M 260 73 153 125\"/>\n",
       "<path stroke-width=\"1\" stroke=\"gray\" d=\"M 260 73 344 107\"/>\n",
       "<path stroke-width=\"1\" stroke=\"gray\" d=\"M 260 73 171 45\"/>\n",
       "<path stroke-width=\"1\" stroke=\"gray\" d=\"M 344 107 260 73\"/>\n",
       "<path stroke-width=\"1\" stroke=\"gray\" d=\"M 344 107 246 82\"/>\n",
       "<path stroke-width=\"1\" stroke=\"gray\" d=\"M 153 125 264 200\"/>\n",
       "<path stroke-width=\"1\" stroke=\"gray\" d=\"M 153 125 20 116\"/>\n",
       "<path stroke-width=\"1\" stroke=\"gray\" d=\"M 153 125 28 91\"/>\n",
       "<path stroke-width=\"1\" stroke=\"gray\" d=\"M 153 125 197 120\"/>\n",
       "<path stroke-width=\"1\" stroke=\"gray\" d=\"M 153 125 260 73\"/>\n",
       "<path stroke-width=\"1\" stroke=\"gray\" d=\"M 344 107 353 168\"/>\n",
       "<path stroke-width=\"1\" stroke=\"gray\" d=\"M 153 125 246 82\"/>\n",
       "<path stroke-width=\"1\" stroke=\"gray\" d=\"M 260 73 282 125\"/>\n",
       "<path stroke-width=\"1\" stroke=\"gray\" d=\"M 260 73 348 43\"/>\n",
       "<path stroke-width=\"1\" stroke=\"gray\" d=\"M 260 73 273 27\"/>\n",
       "<path stroke-width=\"1\" stroke=\"gray\" d=\"M 260 73 313 34\"/>\n",
       "<path stroke-width=\"1\" stroke=\"gray\" d=\"M 260 73 366 61\"/>\n",
       "<path stroke-width=\"1\" stroke=\"gray\" d=\"M 260 73 228 32\"/>\n",
       "<path stroke-width=\"1\" stroke=\"gray\" d=\"M 260 73 131 68\"/>\n",
       "<path stroke-width=\"1\" stroke=\"gray\" d=\"M 260 73 251 143\"/>\n",
       "<path stroke-width=\"1\" stroke=\"gray\" d=\"M 220 320 211 275\"/>\n",
       "<path stroke-width=\"1\" stroke=\"gray\" d=\"M 273 27 246 82\"/>\n",
       "<path stroke-width=\"1\" stroke=\"gray\" d=\"M 273 27 260 73\"/>\n",
       "<path stroke-width=\"1\" stroke=\"gray\" d=\"M 353 168 388 216\"/>\n",
       "<path stroke-width=\"1\" stroke=\"gray\" d=\"M 353 168 331 143\"/>\n",
       "<path stroke-width=\"1\" stroke=\"gray\" d=\"M 353 168 420 202\"/>\n",
       "<path stroke-width=\"1\" stroke=\"gray\" d=\"M 353 168 344 107\"/>\n",
       "<path stroke-width=\"1\" stroke=\"gray\" d=\"M 251 143 264 200\"/>\n",
       "<path stroke-width=\"1\" stroke=\"gray\" d=\"M 251 143 353 168\"/>\n",
       "<path stroke-width=\"1\" stroke=\"gray\" d=\"M 251 143 304 191\"/>\n",
       "<path stroke-width=\"1\" stroke=\"gray\" d=\"M 251 143 340 186\"/>\n",
       "<path stroke-width=\"1\" stroke=\"gray\" d=\"M 251 143 282 125\"/>\n",
       "<path stroke-width=\"1\" stroke=\"gray\" d=\"M 251 143 197 100\"/>\n",
       "<path stroke-width=\"1\" stroke=\"gray\" d=\"M 251 143 282 153\"/>\n",
       "<path stroke-width=\"1\" stroke=\"gray\" d=\"M 251 143 122 103\"/>\n",
       "<path stroke-width=\"1\" stroke=\"gray\" d=\"M 251 143 197 120\"/>\n",
       "<path stroke-width=\"1\" stroke=\"gray\" d=\"M 251 143 260 73\"/>\n",
       "<path stroke-width=\"1\" stroke=\"gray\" d=\"M 304 191 264 200\"/>\n",
       "<path stroke-width=\"1\" stroke=\"gray\" d=\"M 353 168 282 153\"/>\n",
       "<path stroke-width=\"1\" stroke=\"gray\" d=\"M 353 168 340 186\"/>\n",
       "<path stroke-width=\"1\" stroke=\"gray\" d=\"M 353 168 304 191\"/>\n",
       "<path stroke-width=\"1\" stroke=\"gray\" d=\"M 353 168 251 143\"/>\n",
       "<path stroke-width=\"1\" stroke=\"gray\" d=\"M 264 200 251 143\"/>\n",
       "<path stroke-width=\"1\" stroke=\"gray\" d=\"M 264 200 304 191\"/>\n",
       "<path stroke-width=\"1\" stroke=\"gray\" d=\"M 264 200 255 255\"/>\n",
       "<path stroke-width=\"1\" stroke=\"gray\" d=\"M 264 200 211 275\"/>\n",
       "<path stroke-width=\"1\" stroke=\"gray\" d=\"M 264 200 264 277\"/>\n",
       "<path stroke-width=\"1\" stroke=\"gray\" d=\"M 264 200 340 186\"/>\n",
       "<path stroke-width=\"1\" stroke=\"gray\" d=\"M 264 200 282 125\"/>\n",
       "<path stroke-width=\"1\" stroke=\"gray\" d=\"M 304 191 353 168\"/>\n",
       "<path stroke-width=\"1\" stroke=\"gray\" d=\"M 264 200 188 252\"/>\n",
       "<path stroke-width=\"1\" stroke=\"gray\" d=\"M 264 200 335 236\"/>\n",
       "<path stroke-width=\"1\" stroke=\"gray\" d=\"M 264 200 282 153\"/>\n",
       "<path stroke-width=\"1\" stroke=\"gray\" d=\"M 264 200 388 216\"/>\n",
       "<path stroke-width=\"1\" stroke=\"gray\" d=\"M 264 200 331 143\"/>\n",
       "<path stroke-width=\"1\" stroke=\"gray\" d=\"M 264 200 420 202\"/>\n",
       "<path stroke-width=\"1\" stroke=\"gray\" d=\"M 264 200 153 125\"/>\n",
       "<path stroke-width=\"1\" stroke=\"gray\" d=\"M 353 168 264 200\"/>\n",
       "<path stroke-width=\"1\" stroke=\"gray\" d=\"M 264 200 122 212\"/>\n",
       "<path stroke-width=\"1\" stroke=\"gray\" d=\"M 304 191 251 143\"/>\n",
       "<path stroke-width=\"1\" stroke=\"gray\" d=\"M 304 191 340 186\"/>\n",
       "<path stroke-width=\"1\" stroke=\"gray\" d=\"M 304 191 335 236\"/>\n",
       "<path stroke-width=\"1\" stroke=\"gray\" d=\"M 282 125 246 82\"/>\n",
       "<path stroke-width=\"1\" stroke=\"gray\" d=\"M 197 100 251 143\"/>\n",
       "<path stroke-width=\"1\" stroke=\"gray\" d=\"M 197 100 246 82\"/>\n",
       "<path stroke-width=\"1\" stroke=\"gray\" d=\"M 188 252 264 200\"/>\n",
       "<path stroke-width=\"1\" stroke=\"gray\" d=\"M 188 252 255 255\"/>\n",
       "<path stroke-width=\"1\" stroke=\"gray\" d=\"M 188 252 211 275\"/>\n",
       "<path stroke-width=\"1\" stroke=\"gray\" d=\"M 122 212 264 200\"/>\n",
       "<path stroke-width=\"1\" stroke=\"gray\" d=\"M 282 125 260 73\"/>\n",
       "<path stroke-width=\"1\" stroke=\"gray\" d=\"M 335 236 264 200\"/>\n",
       "<path stroke-width=\"1\" stroke=\"gray\" d=\"M 282 153 264 200\"/>\n",
       "<path stroke-width=\"1\" stroke=\"gray\" d=\"M 282 153 353 168\"/>\n",
       "<path stroke-width=\"1\" stroke=\"gray\" d=\"M 282 153 251 143\"/>\n",
       "<path stroke-width=\"1\" stroke=\"gray\" d=\"M 282 153 304 191\"/>\n",
       "<path stroke-width=\"1\" stroke=\"gray\" d=\"M 282 153 246 82\"/>\n",
       "<path stroke-width=\"1\" stroke=\"gray\" d=\"M 348 43 260 73\"/>\n",
       "<path stroke-width=\"1\" stroke=\"gray\" d=\"M 348 43 246 82\"/>\n",
       "<path stroke-width=\"1\" stroke=\"gray\" d=\"M 335 236 304 191\"/>\n",
       "<path stroke-width=\"1\" stroke=\"gray\" d=\"M 246 82 153 125\"/>\n",
       "<path stroke-width=\"1\" stroke=\"gray\" d=\"M 282 125 344 107\"/>\n",
       "<path stroke-width=\"1\" stroke=\"gray\" d=\"M 282 125 264 200\"/>\n",
       "<path stroke-width=\"1\" stroke=\"gray\" d=\"M 304 191 282 153\"/>\n",
       "<path stroke-width=\"1\" stroke=\"gray\" d=\"M 255 255 264 200\"/>\n",
       "<path stroke-width=\"1\" stroke=\"gray\" d=\"M 255 255 264 277\"/>\n",
       "<path stroke-width=\"1\" stroke=\"gray\" d=\"M 255 255 188 252\"/>\n",
       "<path stroke-width=\"1\" stroke=\"gray\" d=\"M 211 275 264 200\"/>\n",
       "<path stroke-width=\"1\" stroke=\"gray\" d=\"M 211 275 264 277\"/>\n",
       "<path stroke-width=\"1\" stroke=\"gray\" d=\"M 211 275 188 252\"/>\n",
       "<path stroke-width=\"1\" stroke=\"gray\" d=\"M 282 125 251 143\"/>\n",
       "<path stroke-width=\"1\" stroke=\"gray\" d=\"M 211 275 220 320\"/>\n",
       "<path stroke-width=\"1\" stroke=\"gray\" d=\"M 264 277 255 255\"/>\n",
       "<path stroke-width=\"1\" stroke=\"gray\" d=\"M 264 277 211 275\"/>\n",
       "<path stroke-width=\"1\" stroke=\"gray\" d=\"M 264 277 220 320\"/>\n",
       "<path stroke-width=\"1\" stroke=\"gray\" d=\"M 340 186 264 200\"/>\n",
       "<path stroke-width=\"1\" stroke=\"gray\" d=\"M 340 186 353 168\"/>\n",
       "<path stroke-width=\"1\" stroke=\"gray\" d=\"M 340 186 251 143\"/>\n",
       "<path stroke-width=\"1\" stroke=\"gray\" d=\"M 340 186 304 191\"/>\n",
       "<path stroke-width=\"1\" stroke=\"gray\" d=\"M 264 277 264 200\"/>\n",
       "<path stroke-width=\"1\" stroke=\"gray\" d=\"M 246 82 260 73\"/>\n",
       "<circle cx=\"264\" cy=\"200\" r=\"7.0\" style=\"fill:red;stroke:black;stroke-width:1.0\"/>\n",
       "<circle cx=\"353\" cy=\"168\" r=\"7.0\" style=\"fill:red;stroke:black;stroke-width:1.0\"/>\n",
       "<circle cx=\"251\" cy=\"143\" r=\"7.0\" style=\"fill:red;stroke:black;stroke-width:1.0\"/>\n",
       "<circle cx=\"304\" cy=\"191\" r=\"7.0\" style=\"fill:red;stroke:black;stroke-width:1.0\"/>\n",
       "<circle cx=\"255\" cy=\"255\" r=\"7.0\" style=\"fill:red;stroke:black;stroke-width:1.0\"/>\n",
       "<circle cx=\"211\" cy=\"275\" r=\"7.0\" style=\"fill:red;stroke:black;stroke-width:1.0\"/>\n",
       "<circle cx=\"264\" cy=\"277\" r=\"7.0\" style=\"fill:red;stroke:black;stroke-width:1.0\"/>\n",
       "<circle cx=\"340\" cy=\"186\" r=\"7.0\" style=\"fill:red;stroke:black;stroke-width:1.0\"/>\n",
       "<circle cx=\"282\" cy=\"125\" r=\"7.0\" style=\"fill:red;stroke:black;stroke-width:1.0\"/>\n",
       "<circle cx=\"197\" cy=\"100\" r=\"7.0\" style=\"fill:blue;stroke:black;stroke-width:1.0\"/>\n",
       "<circle cx=\"188\" cy=\"252\" r=\"7.0\" style=\"fill:red;stroke:black;stroke-width:1.0\"/>\n",
       "<circle cx=\"122\" cy=\"212\" r=\"7.0\" style=\"fill:red;stroke:black;stroke-width:1.0\"/>\n",
       "<circle cx=\"335\" cy=\"236\" r=\"7.0\" style=\"fill:red;stroke:black;stroke-width:1.0\"/>\n",
       "<circle cx=\"282\" cy=\"153\" r=\"7.0\" style=\"fill:red;stroke:black;stroke-width:1.0\"/>\n",
       "<circle cx=\"348\" cy=\"43\" r=\"7.0\" style=\"fill:blue;stroke:black;stroke-width:1.0\"/>\n",
       "<circle cx=\"273\" cy=\"27\" r=\"7.0\" style=\"fill:blue;stroke:black;stroke-width:1.0\"/>\n",
       "<circle cx=\"220\" cy=\"320\" r=\"7.0\" style=\"fill:red;stroke:black;stroke-width:1.0\"/>\n",
       "<circle cx=\"388\" cy=\"216\" r=\"7.0\" style=\"fill:red;stroke:black;stroke-width:1.0\"/>\n",
       "<circle cx=\"313\" cy=\"34\" r=\"7.0\" style=\"fill:blue;stroke:black;stroke-width:1.0\"/>\n",
       "<circle cx=\"331\" cy=\"143\" r=\"7.0\" style=\"fill:red;stroke:black;stroke-width:1.0\"/>\n",
       "<circle cx=\"366\" cy=\"61\" r=\"7.0\" style=\"fill:blue;stroke:black;stroke-width:1.0\"/>\n",
       "<circle cx=\"420\" cy=\"202\" r=\"7.0\" style=\"fill:red;stroke:black;stroke-width:1.0\"/>\n",
       "<circle cx=\"228\" cy=\"32\" r=\"7.0\" style=\"fill:blue;stroke:black;stroke-width:1.0\"/>\n",
       "<circle cx=\"131\" cy=\"68\" r=\"7.0\" style=\"fill:blue;stroke:black;stroke-width:1.0\"/>\n",
       "<circle cx=\"20\" cy=\"116\" r=\"7.0\" style=\"fill:blue;stroke:black;stroke-width:1.0\"/>\n",
       "<circle cx=\"28\" cy=\"91\" r=\"7.0\" style=\"fill:blue;stroke:black;stroke-width:1.0\"/>\n",
       "<circle cx=\"162\" cy=\"20\" r=\"7.0\" style=\"fill:blue;stroke:black;stroke-width:1.0\"/>\n",
       "<circle cx=\"122\" cy=\"103\" r=\"7.0\" style=\"fill:blue;stroke:black;stroke-width:1.0\"/>\n",
       "<circle cx=\"197\" cy=\"120\" r=\"7.0\" style=\"fill:blue;stroke:black;stroke-width:1.0\"/>\n",
       "<circle cx=\"171\" cy=\"45\" r=\"7.0\" style=\"fill:blue;stroke:black;stroke-width:1.0\"/>\n",
       "<circle cx=\"344\" cy=\"107\" r=\"7.0\" style=\"fill:blue;stroke:black;stroke-width:1.0\"/>\n",
       "<circle cx=\"153\" cy=\"125\" r=\"7.0\" style=\"fill:blue;stroke:black;stroke-width:1.0\"/>\n",
       "<circle cx=\"260\" cy=\"73\" r=\"7.0\" style=\"fill:blue;stroke:black;stroke-width:1.0\"/>\n",
       "<circle cx=\"246\" cy=\"82\" r=\"7.0\" style=\"fill:blue;stroke:black;stroke-width:1.0\"/>\n",
       "<text text-anchor=\"start\" x=\"274\" y=\"200\" font-size=\"12\">0</text><text text-anchor=\"start\" x=\"363\" y=\"168\" font-size=\"12\">1</text><text text-anchor=\"start\" x=\"261\" y=\"143\" font-size=\"12\">2</text><text text-anchor=\"start\" x=\"314\" y=\"191\" font-size=\"12\">3</text><text text-anchor=\"start\" x=\"265\" y=\"255\" font-size=\"12\">4</text><text text-anchor=\"start\" x=\"221\" y=\"275\" font-size=\"12\">5</text><text text-anchor=\"start\" x=\"274\" y=\"277\" font-size=\"12\">6</text><text text-anchor=\"start\" x=\"350\" y=\"186\" font-size=\"12\">7</text><text text-anchor=\"start\" x=\"292\" y=\"125\" font-size=\"12\">8</text><text text-anchor=\"start\" x=\"207\" y=\"100\" font-size=\"12\">9</text><text text-anchor=\"start\" x=\"198\" y=\"252\" font-size=\"12\">10</text><text text-anchor=\"start\" x=\"132\" y=\"212\" font-size=\"12\">11</text><text text-anchor=\"start\" x=\"345\" y=\"236\" font-size=\"12\">12</text><text text-anchor=\"start\" x=\"292\" y=\"153\" font-size=\"12\">13</text><text text-anchor=\"start\" x=\"358\" y=\"43\" font-size=\"12\">14</text><text text-anchor=\"start\" x=\"283\" y=\"27\" font-size=\"12\">15</text><text text-anchor=\"start\" x=\"230\" y=\"320\" font-size=\"12\">16</text><text text-anchor=\"start\" x=\"398\" y=\"216\" font-size=\"12\">17</text><text text-anchor=\"start\" x=\"323\" y=\"34\" font-size=\"12\">18</text><text text-anchor=\"start\" x=\"341\" y=\"143\" font-size=\"12\">19</text><text text-anchor=\"start\" x=\"376\" y=\"61\" font-size=\"12\">20</text><text text-anchor=\"start\" x=\"430\" y=\"202\" font-size=\"12\">21</text><text text-anchor=\"start\" x=\"238\" y=\"32\" font-size=\"12\">22</text><text text-anchor=\"start\" x=\"141\" y=\"68\" font-size=\"12\">23</text><text text-anchor=\"start\" x=\"30\" y=\"116\" font-size=\"12\">24</text><text text-anchor=\"start\" x=\"38\" y=\"91\" font-size=\"12\">25</text><text text-anchor=\"start\" x=\"172\" y=\"20\" font-size=\"12\">26</text><text text-anchor=\"start\" x=\"132\" y=\"103\" font-size=\"12\">27</text><text text-anchor=\"start\" x=\"207\" y=\"120\" font-size=\"12\">28</text><text text-anchor=\"start\" x=\"181\" y=\"45\" font-size=\"12\">29</text><text text-anchor=\"start\" x=\"354\" y=\"107\" font-size=\"12\">30</text><text text-anchor=\"start\" x=\"163\" y=\"125\" font-size=\"12\">31</text><text text-anchor=\"start\" x=\"270\" y=\"73\" font-size=\"12\">32</text><text text-anchor=\"start\" x=\"256\" y=\"82\" font-size=\"12\">33</text></svg>"
      ],
      "text/plain": [
       "<IPython.core.display.SVG object>"
      ]
     },
     "execution_count": 6,
     "metadata": {},
     "output_type": "execute_result"
    }
   ],
   "source": [
    "dataset = karate_club(metadata=True)\n",
    "adjacency = dataset.adjacency\n",
    "position = dataset.position\n",
    "labels = dataset.labels\n",
    "names = np.arange(adjacency.shape[0])\n",
    "SVG(visualize_graph(adjacency, position, labels=labels, names=names))"
   ]
  },
  {
   "cell_type": "code",
   "execution_count": 7,
   "metadata": {},
   "outputs": [],
   "source": [
    "cosine_similarity = lambda x, y: np.dot(x, y) / (np.linalg.norm(x) * np.linalg.norm(y))"
   ]
  },
  {
   "cell_type": "code",
   "execution_count": 8,
   "metadata": {},
   "outputs": [],
   "source": [
    "spectral = Spectral(n_components=3)\n",
    "embedding = spectral.fit_transform(adjacency)"
   ]
  },
  {
   "cell_type": "code",
   "execution_count": 10,
   "metadata": {},
   "outputs": [
    {
     "name": "stdout",
     "output_type": "stream",
     "text": [
      "190\n"
     ]
    }
   ],
   "source": [
    "counter = 0\n",
    "for i in range(34):\n",
    "    for j in range(34):\n",
    "        if i != j:\n",
    "            if cosine_similarity(embedding[i], embedding[j]) >= 0:\n",
    "                counter += 1\n",
    "print(counter//2)"
   ]
  },
  {
   "cell_type": "code",
   "execution_count": 9,
   "metadata": {},
   "outputs": [
    {
     "name": "stdout",
     "output_type": "stream",
     "text": [
      "(5, 6)\n",
      "(6, 5)\n",
      "(14, 15)\n",
      "(14, 18)\n",
      "(14, 22)\n",
      "(15, 14)\n",
      "(18, 14)\n",
      "(22, 14)\n"
     ]
    }
   ],
   "source": [
    "distances = { }\n",
    "for i in range(34):\n",
    "    for j in range(34):\n",
    "        distances[(i, j)] = cosine_similarity(embedding[i], embedding[j]) if i != j else 0\n",
    "m = max((list(distances.values())))\n",
    "# m = min(np.abs(list(distances.values())))\n",
    "for k in distances:\n",
    "    if (distances[k]) == m:\n",
    "        print(k)\n",
    "\n",
    "# for i in range(34):\n",
    "#     for j in range(i+1, 34):\n",
    "#         print(i, j, cosine_similarity(embedding[i], embedding[j]))"
   ]
  },
  {
   "cell_type": "code",
   "execution_count": null,
   "metadata": {},
   "outputs": [],
   "source": []
  },
  {
   "cell_type": "code",
   "execution_count": 10,
   "metadata": {},
   "outputs": [],
   "source": [
    "P = sp.Rational(1, 4) * sp.Matrix([[0, 1, 1, 1, 1], [2, 0, 2, 0, 0], [2, 2, 0, 0, 0], [2, 0, 0, 0, 2], [2, 0, 0, 2, 0]])"
   ]
  },
  {
   "cell_type": "code",
   "execution_count": 11,
   "metadata": {},
   "outputs": [
    {
     "data": {
      "text/latex": [
       "$\\displaystyle \\left[\\begin{matrix}0 & \\frac{1}{4} & \\frac{1}{4} & \\frac{1}{4} & \\frac{1}{4}\\\\\\frac{1}{2} & 0 & \\frac{1}{2} & 0 & 0\\\\\\frac{1}{2} & \\frac{1}{2} & 0 & 0 & 0\\\\\\frac{1}{2} & 0 & 0 & 0 & \\frac{1}{2}\\\\\\frac{1}{2} & 0 & 0 & \\frac{1}{2} & 0\\end{matrix}\\right]$"
      ],
      "text/plain": [
       "Matrix([\n",
       "[  0, 1/4, 1/4, 1/4, 1/4],\n",
       "[1/2,   0, 1/2,   0,   0],\n",
       "[1/2, 1/2,   0,   0,   0],\n",
       "[1/2,   0,   0,   0, 1/2],\n",
       "[1/2,   0,   0, 1/2,   0]])"
      ]
     },
     "execution_count": 11,
     "metadata": {},
     "output_type": "execute_result"
    }
   ],
   "source": [
    "P"
   ]
  },
  {
   "cell_type": "code",
   "execution_count": 12,
   "metadata": {},
   "outputs": [],
   "source": [
    "X = sp.Matrix([[0, -1, 0, 2, -1], [1, 1, 0, 1, -2]]).T"
   ]
  },
  {
   "cell_type": "code",
   "execution_count": 13,
   "metadata": {},
   "outputs": [
    {
     "data": {
      "text/latex": [
       "$\\displaystyle \\left[\\begin{matrix}0 & 1\\\\-1 & 1\\\\0 & 0\\\\2 & 1\\\\-1 & -2\\end{matrix}\\right]$"
      ],
      "text/plain": [
       "Matrix([\n",
       "[ 0,  1],\n",
       "[-1,  1],\n",
       "[ 0,  0],\n",
       "[ 2,  1],\n",
       "[-1, -2]])"
      ]
     },
     "execution_count": 13,
     "metadata": {},
     "output_type": "execute_result"
    }
   ],
   "source": [
    "X"
   ]
  },
  {
   "cell_type": "code",
   "execution_count": 24,
   "metadata": {},
   "outputs": [],
   "source": [
    "W = sp.Matrix([[2], [-1]])\n",
    "b = sp.Matrix([1, 1, 1, 1, 1])"
   ]
  },
  {
   "cell_type": "code",
   "execution_count": 25,
   "metadata": {},
   "outputs": [
    {
     "data": {
      "text/latex": [
       "$\\displaystyle \\left[\\begin{matrix}2\\\\-1\\end{matrix}\\right]$"
      ],
      "text/plain": [
       "Matrix([\n",
       "[ 2],\n",
       "[-1]])"
      ]
     },
     "execution_count": 25,
     "metadata": {},
     "output_type": "execute_result"
    }
   ],
   "source": [
    "W"
   ]
  },
  {
   "cell_type": "code",
   "execution_count": 26,
   "metadata": {},
   "outputs": [
    {
     "data": {
      "text/latex": [
       "$\\displaystyle \\left[\\begin{matrix}1\\\\1\\\\1\\\\1\\\\1\\end{matrix}\\right]$"
      ],
      "text/plain": [
       "Matrix([\n",
       "[1],\n",
       "[1],\n",
       "[1],\n",
       "[1],\n",
       "[1]])"
      ]
     },
     "execution_count": 26,
     "metadata": {},
     "output_type": "execute_result"
    }
   ],
   "source": [
    "b"
   ]
  },
  {
   "cell_type": "code",
   "execution_count": 27,
   "metadata": {},
   "outputs": [
    {
     "data": {
      "text/latex": [
       "$\\displaystyle \\left[\\begin{matrix}0\\\\- \\frac{5}{2}\\\\-1\\\\\\frac{7}{2}\\\\2\\end{matrix}\\right]$"
      ],
      "text/plain": [
       "Matrix([\n",
       "[   0],\n",
       "[-5/2],\n",
       "[  -1],\n",
       "[ 7/2],\n",
       "[   2]])"
      ]
     },
     "execution_count": 27,
     "metadata": {},
     "output_type": "execute_result"
    }
   ],
   "source": [
    "(P + sp.eye(5)) * X * W + b"
   ]
  },
  {
   "cell_type": "code",
   "execution_count": null,
   "metadata": {},
   "outputs": [],
   "source": []
  },
  {
   "cell_type": "code",
   "execution_count": 30,
   "metadata": {},
   "outputs": [
    {
     "name": "stdout",
     "output_type": "stream",
     "text": [
      "Parsing files...\n",
      "Done.\n",
      "622\n",
      "Peawanuck Airport\n"
     ]
    }
   ],
   "source": [
    "openflights = load_netset('openflights')\n",
    "dataset = openflights\n",
    "adjacency = dataset.adjacency\n",
    "names = dataset.names\n",
    "cdg = (names == 'Charles de Gaulle International Airport').nonzero()[0][0]\n",
    "print(cdg)\n",
    "\n",
    "print(names[np.argmax(get_distances(adjacency, cdg))])"
   ]
  },
  {
   "cell_type": "code",
   "execution_count": null,
   "metadata": {},
   "outputs": [],
   "source": []
  },
  {
   "cell_type": "code",
   "execution_count": 2,
   "metadata": {},
   "outputs": [
    {
     "data": {
      "text/latex": [
       "$\\displaystyle \\left[\\begin{matrix}0 & 1 & -2\\\\0 & 1 & 0\\\\2 & 3 & -1\\\\-2 & -1 & 0\\\\2 & 0 & -1\\end{matrix}\\right]$"
      ],
      "text/plain": [
       "Matrix([\n",
       "[ 0,  1, -2],\n",
       "[ 0,  1,  0],\n",
       "[ 2,  3, -1],\n",
       "[-2, -1,  0],\n",
       "[ 2,  0, -1]])"
      ]
     },
     "execution_count": 2,
     "metadata": {},
     "output_type": "execute_result"
    }
   ],
   "source": [
    "X = sp.Matrix([[0, 1, -2], [0, 1, 0], [2, 3, -1], [-2, -1, 0], [2, 0, -1]])\n",
    "X"
   ]
  },
  {
   "cell_type": "code",
   "execution_count": 11,
   "metadata": {},
   "outputs": [
    {
     "data": {
      "text/latex": [
       "$\\displaystyle \\left[\\begin{matrix}0 & \\frac{1}{2} & 0 & 0 & \\frac{1}{2}\\\\\\frac{1}{3} & 0 & \\frac{1}{3} & 0 & 0\\\\0 & \\frac{1}{2} & 0 & \\frac{1}{2} & 0\\\\0 & 0 & \\frac{1}{2} & 0 & \\frac{1}{2}\\\\\\frac{1}{3} & \\frac{1}{3} & 0 & \\frac{1}{3} & 0\\end{matrix}\\right]$"
      ],
      "text/plain": [
       "Matrix([\n",
       "[  0, 1/2,   0,   0, 1/2],\n",
       "[1/3,   0, 1/3,   0,   0],\n",
       "[  0, 1/2,   0, 1/2,   0],\n",
       "[  0,   0, 1/2,   0, 1/2],\n",
       "[1/3, 1/3,   0, 1/3,   0]])"
      ]
     },
     "execution_count": 11,
     "metadata": {},
     "output_type": "execute_result"
    }
   ],
   "source": [
    "P = sp.Rational(1, 6) * sp.Matrix([[0, 3, 0, 0, 3], [2, 0, 2, 0, 0], [0, 3, 0, 3, 0], [0, 0, 3, 0, 3], [2, 2, 0, 2, 0]])\n",
    "P"
   ]
  },
  {
   "cell_type": "code",
   "execution_count": 12,
   "metadata": {},
   "outputs": [
    {
     "data": {
      "text/latex": [
       "$\\displaystyle \\left[\\begin{matrix}\\frac{13}{4} & \\frac{13}{6} & \\frac{5}{2} & \\frac{3}{2} & \\frac{19}{6}\\end{matrix}\\right]$"
      ],
      "text/plain": [
       "Matrix([[13/4, 13/6, 5/2, 3/2, 19/6]])"
      ]
     },
     "execution_count": 12,
     "metadata": {},
     "output_type": "execute_result"
    }
   ],
   "source": [
    "((P+sp.eye(5))*X*sp.Matrix([1, 0, -sp.Rational(1, 2)]) + sp.Matrix([1, 1, 1, 1, 1])).T"
   ]
  },
  {
   "cell_type": "code",
   "execution_count": 13,
   "metadata": {},
   "outputs": [
    {
     "data": {
      "text/plain": [
       "259"
      ]
     },
     "execution_count": 13,
     "metadata": {},
     "output_type": "execute_result"
    }
   ],
   "source": [
    "12*16 + 16 + 16*3 + 3"
   ]
  },
  {
   "cell_type": "code",
   "execution_count": 14,
   "metadata": {},
   "outputs": [
    {
     "data": {
      "text/latex": [
       "$\\displaystyle \\frac{39127}{75852}$"
      ],
      "text/plain": [
       "39127/75852"
      ]
     },
     "execution_count": 14,
     "metadata": {},
     "output_type": "execute_result"
    }
   ],
   "source": [
    "sp.Rational(10, 43) - sp.Rational(22**2, 84**2) + sp.Rational(8, 43) - sp.Rational(18**2, 84**2)+ sp.Rational(22, 43) - sp.Rational(46**2, 84**2)"
   ]
  },
  {
   "cell_type": "code",
   "execution_count": null,
   "metadata": {},
   "outputs": [],
   "source": []
  }
 ],
 "metadata": {
  "kernelspec": {
   "display_name": ".venv",
   "language": "python",
   "name": "python3"
  },
  "language_info": {
   "codemirror_mode": {
    "name": "ipython",
    "version": 3
   },
   "file_extension": ".py",
   "mimetype": "text/x-python",
   "name": "python",
   "nbconvert_exporter": "python",
   "pygments_lexer": "ipython3",
   "version": "3.11.1"
  }
 },
 "nbformat": 4,
 "nbformat_minor": 2
}
